{
 "cells": [
  {
   "cell_type": "code",
   "execution_count": 16,
   "metadata": {},
   "outputs": [],
   "source": [
    "import pandas as pd\n",
    "import numpy as np\n",
    "from functools import reduce"
   ]
  },
  {
   "cell_type": "code",
   "execution_count": null,
   "metadata": {},
   "outputs": [],
   "source": [
    "total_data=pd.read_csv(\"https://raw.githubusercontent.com/Akarshan-Jaiswal/datavisualizationandanalytics.github.io/CW1/Dataset/Complete_Covid/Covid.csv\")"
   ]
  },
  {
   "cell_type": "code",
   "execution_count": 7,
   "metadata": {},
   "outputs": [
    {
     "data": {
      "text/plain": [
       "Index(['iso_code', 'continent', 'location', 'date', 'total_cases', 'new_cases',\n",
       "       'new_cases_smoothed', 'total_deaths', 'new_deaths',\n",
       "       'new_deaths_smoothed', 'total_cases_per_million',\n",
       "       'new_cases_per_million', 'new_cases_smoothed_per_million',\n",
       "       'total_deaths_per_million', 'new_deaths_per_million',\n",
       "       'new_deaths_smoothed_per_million', 'reproduction_rate', 'icu_patients',\n",
       "       'icu_patients_per_million', 'hosp_patients',\n",
       "       'hosp_patients_per_million', 'weekly_icu_admissions',\n",
       "       'weekly_icu_admissions_per_million', 'weekly_hosp_admissions',\n",
       "       'weekly_hosp_admissions_per_million', 'total_tests', 'new_tests',\n",
       "       'total_tests_per_thousand', 'new_tests_per_thousand',\n",
       "       'new_tests_smoothed', 'new_tests_smoothed_per_thousand',\n",
       "       'positive_rate', 'tests_per_case', 'tests_units', 'total_vaccinations',\n",
       "       'people_vaccinated', 'people_fully_vaccinated', 'total_boosters',\n",
       "       'new_vaccinations', 'new_vaccinations_smoothed',\n",
       "       'total_vaccinations_per_hundred', 'people_vaccinated_per_hundred',\n",
       "       'people_fully_vaccinated_per_hundred', 'total_boosters_per_hundred',\n",
       "       'new_vaccinations_smoothed_per_million',\n",
       "       'new_people_vaccinated_smoothed',\n",
       "       'new_people_vaccinated_smoothed_per_hundred', 'stringency_index',\n",
       "       'population_density', 'median_age', 'aged_65_older', 'aged_70_older',\n",
       "       'gdp_per_capita', 'extreme_poverty', 'cardiovasc_death_rate',\n",
       "       'diabetes_prevalence', 'female_smokers', 'male_smokers',\n",
       "       'handwashing_facilities', 'hospital_beds_per_thousand',\n",
       "       'life_expectancy', 'human_development_index', 'population',\n",
       "       'excess_mortality_cumulative_absolute', 'excess_mortality_cumulative',\n",
       "       'excess_mortality', 'excess_mortality_cumulative_per_million'],\n",
       "      dtype='object')"
      ]
     },
     "execution_count": 7,
     "metadata": {},
     "output_type": "execute_result"
    }
   ],
   "source": [
    "total_data.head()\n",
    "total_data.isnull().sum()\n",
    "total_data.columns"
   ]
  },
  {
   "cell_type": "code",
   "execution_count": 8,
   "metadata": {},
   "outputs": [],
   "source": [
    "total_cases_time_variate=total_data[['date','iso_code', 'location','continent','total_cases','new_cases','new_cases_smoothed', 'total_deaths', 'new_deaths',\n",
    "       'new_deaths_smoothed','reproduction_rate', 'icu_patients','hosp_patients','total_tests', 'new_tests','new_tests_smoothed','positive_rate', 'tests_per_case', 'tests_units', 'total_vaccinations',\n",
    "       'people_vaccinated', 'people_fully_vaccinated', 'total_boosters','new_vaccinations', 'new_vaccinations_smoothed','new_people_vaccinated_smoothed',\n",
    "       'new_people_vaccinated_smoothed_per_hundred', 'stringency_index',\n",
    "       'population_density', 'median_age', 'aged_65_older', 'aged_70_older',\n",
    "       'gdp_per_capita', 'extreme_poverty', 'female_smokers', 'male_smokers','handwashing_facilities',\n",
    "       'life_expectancy', 'human_development_index', 'population']]"
   ]
  },
  {
   "cell_type": "code",
   "execution_count": 11,
   "metadata": {},
   "outputs": [
    {
     "data": {
      "text/plain": [
       "date                                           object\n",
       "iso_code                                       object\n",
       "location                                       object\n",
       "continent                                      object\n",
       "total_cases                                   float64\n",
       "new_cases                                     float64\n",
       "new_cases_smoothed                            float64\n",
       "total_deaths                                  float64\n",
       "new_deaths                                    float64\n",
       "new_deaths_smoothed                           float64\n",
       "reproduction_rate                             float64\n",
       "icu_patients                                  float64\n",
       "hosp_patients                                 float64\n",
       "total_tests                                   float64\n",
       "new_tests                                     float64\n",
       "new_tests_smoothed                            float64\n",
       "positive_rate                                 float64\n",
       "tests_per_case                                float64\n",
       "tests_units                                    object\n",
       "total_vaccinations                            float64\n",
       "people_vaccinated                             float64\n",
       "people_fully_vaccinated                       float64\n",
       "total_boosters                                float64\n",
       "new_vaccinations                              float64\n",
       "new_vaccinations_smoothed                     float64\n",
       "new_people_vaccinated_smoothed                float64\n",
       "new_people_vaccinated_smoothed_per_hundred    float64\n",
       "stringency_index                              float64\n",
       "population_density                            float64\n",
       "median_age                                    float64\n",
       "aged_65_older                                 float64\n",
       "aged_70_older                                 float64\n",
       "gdp_per_capita                                float64\n",
       "extreme_poverty                               float64\n",
       "female_smokers                                float64\n",
       "male_smokers                                  float64\n",
       "handwashing_facilities                        float64\n",
       "life_expectancy                               float64\n",
       "human_development_index                       float64\n",
       "population                                    float64\n",
       "dtype: object"
      ]
     },
     "execution_count": 11,
     "metadata": {},
     "output_type": "execute_result"
    }
   ],
   "source": [
    "total_cases_time_variate.isnull().sum()\n",
    "total_cases_time_variate.dtypes"
   ]
  },
  {
   "cell_type": "code",
   "execution_count": 14,
   "metadata": {},
   "outputs": [
    {
     "data": {
      "text/plain": [
       "aged_65_older                                      0\n",
       "aged_70_older                                      0\n",
       "continent                                       9230\n",
       "date                                               0\n",
       "extreme_poverty                                    0\n",
       "female_smokers                                     0\n",
       "gdp_per_capita                                     0\n",
       "handwashing_facilities                             0\n",
       "hosp_patients                                      0\n",
       "human_development_index                            0\n",
       "icu_patients                                       0\n",
       "iso_code                                           0\n",
       "life_expectancy                                    0\n",
       "location                                           0\n",
       "male_smokers                                       0\n",
       "median_age                                         0\n",
       "new_cases                                          0\n",
       "new_cases_smoothed                                 0\n",
       "new_deaths                                         0\n",
       "new_deaths_smoothed                                0\n",
       "new_people_vaccinated_smoothed                     0\n",
       "new_people_vaccinated_smoothed_per_hundred         0\n",
       "new_tests                                          0\n",
       "new_tests_smoothed                                 0\n",
       "new_vaccinations                                   0\n",
       "new_vaccinations_smoothed                          0\n",
       "people_fully_vaccinated                            0\n",
       "people_vaccinated                                  0\n",
       "population                                         0\n",
       "population_density                                 0\n",
       "positive_rate                                      0\n",
       "reproduction_rate                                  0\n",
       "stringency_index                                   0\n",
       "tests_per_case                                     0\n",
       "tests_units                                   118726\n",
       "total_boosters                                     0\n",
       "total_cases                                        0\n",
       "total_deaths                                       0\n",
       "total_tests                                        0\n",
       "total_vaccinations                                 0\n",
       "dtype: int64"
      ]
     },
     "execution_count": 14,
     "metadata": {},
     "output_type": "execute_result"
    }
   ],
   "source": [
    "test=total_cases_time_variate.combine_first(total_cases_time_variate.apply(lambda x: \\\n",
    "      pd.to_numeric(x,errors='coerce')).dropna(how='all',axis=1).fillna(0))\n",
    "test.isnull().sum()"
   ]
  },
  {
   "cell_type": "code",
   "execution_count": 15,
   "metadata": {},
   "outputs": [
    {
     "data": {
      "text/plain": [
       "Index(['aged_65_older', 'aged_70_older', 'continent', 'date',\n",
       "       'extreme_poverty', 'female_smokers', 'gdp_per_capita',\n",
       "       'handwashing_facilities', 'hosp_patients', 'human_development_index',\n",
       "       'icu_patients', 'iso_code', 'life_expectancy', 'location',\n",
       "       'male_smokers', 'median_age', 'new_cases', 'new_cases_smoothed',\n",
       "       'new_deaths', 'new_deaths_smoothed', 'new_people_vaccinated_smoothed',\n",
       "       'new_people_vaccinated_smoothed_per_hundred', 'new_tests',\n",
       "       'new_tests_smoothed', 'new_vaccinations', 'new_vaccinations_smoothed',\n",
       "       'people_fully_vaccinated', 'people_vaccinated', 'population',\n",
       "       'population_density', 'positive_rate', 'reproduction_rate',\n",
       "       'stringency_index', 'tests_per_case', 'tests_units', 'total_boosters',\n",
       "       'total_cases', 'total_deaths', 'total_tests', 'total_vaccinations'],\n",
       "      dtype='object')"
      ]
     },
     "execution_count": 15,
     "metadata": {},
     "output_type": "execute_result"
    }
   ],
   "source": [
    "test.columns"
   ]
  },
  {
   "cell_type": "code",
   "execution_count": 17,
   "metadata": {},
   "outputs": [],
   "source": [
    "#linechart_data_total_cases=\n",
    "templ=[]\n",
    "for i in test['location'].unique():\n",
    "    df1=test[test['location']==i]\n",
    "    # df1=df1.fillna(0)    \n",
    "    df1_temp=pd.DataFrame()\n",
    "    df1_temp['date']=df1['date']\n",
    "    df1_temp[i]=list(df1['total_vaccinations'].values)\n",
    "    df1_temp=df1_temp.reset_index(drop=True)\n",
    "    templ.append(df1_temp)\n",
    "    \n",
    "linechart_data_total_cases=reduce(lambda x,y: pd.merge(x,y, on='date', how='outer'),templ)"
   ]
  },
  {
   "cell_type": "code",
   "execution_count": null,
   "metadata": {},
   "outputs": [],
   "source": [
    "def new_country_wise_dataframe(df,variate):\n",
    "    temp=[]\n",
    "    for i in df['location'].unique():\n",
    "        df1=test[df['location']==i]\n",
    "        df1_temp=pd.DataFrame()\n",
    "        df1_temp['date']=df1['date']\n",
    "        df1_temp[i]=list(df1[variate].values)"
   ]
  },
  {
   "cell_type": "code",
   "execution_count": 19,
   "metadata": {},
   "outputs": [
    {
     "data": {
      "text/plain": [
       "date              0\n",
       "Afghanistan       4\n",
       "Africa            4\n",
       "Albania           4\n",
       "Algeria           4\n",
       "                 ..\n",
       "Nicaragua         4\n",
       "Niger             4\n",
       "Nigeria           4\n",
       "Niue              4\n",
       "North America    64\n",
       "Length: 164, dtype: int64"
      ]
     },
     "execution_count": 19,
     "metadata": {},
     "output_type": "execute_result"
    }
   ],
   "source": [
    "linechart_data_total_cases.isnull().sum()"
   ]
  }
 ],
 "metadata": {
  "kernelspec": {
   "display_name": "Python 3",
   "language": "python",
   "name": "python3"
  },
  "language_info": {
   "codemirror_mode": {
    "name": "ipython",
    "version": 3
   },
   "file_extension": ".py",
   "mimetype": "text/x-python",
   "name": "python",
   "nbconvert_exporter": "python",
   "pygments_lexer": "ipython3",
   "version": "3.11.0"
  },
  "orig_nbformat": 4
 },
 "nbformat": 4,
 "nbformat_minor": 2
}
